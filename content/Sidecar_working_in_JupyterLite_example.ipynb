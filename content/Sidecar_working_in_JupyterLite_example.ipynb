{
  "metadata": {
    "kernelspec": {
      "name": "xpython",
      "display_name": "Python 3.11 (XPython)",
      "language": "python"
    },
    "language_info": {
      "file_extension": ".py",
      "mimetype": "text/x-python",
      "name": "python",
      "version": "3.11.3"
    }
  },
  "nbformat_minor": 4,
  "nbformat": 4,
  "cells": [
    {
      "cell_type": "markdown",
      "source": "### Sidecar working in JupyterLite\n\nAs of September 18, 2024 this simple demonstration of [Sidecar ouput widget](https://github.com/jupyter-widgets/jupyterlab-sidecar) working in JupyterLab works in sessions launched from [github.com/fomightez/jupyterlite-xeus-demo](https://github.com/fomightez/jupyterlite-xeus-demo).\n\nIn getting this set up, I noted that the advice at bottom of [xeus-python + JupyterLite demo](https://github.com/jupyterlite/xeus-python-demo) where it says 'How do I know if a package is no-arch on conda-forge?' has to be taken with a grain of salt. Or maybe something needs updating!!??! I first tried installing sidecar version 0.5.1 as it stated at [sidecar page there](https://beta.mamba.pm/channels/conda-forge/packages/sidecar), that I got when started from https://beta.mamba.pm/channels/conda-forge?tab=packages and searched 'sidecar'. That failed to build due to issue with Tornado version being too high according to log. And so I tried version sidecar version 0.7.0 because I had noted that at [the official conda-forge sidecar page at anaconda.org](https://anaconda.org/conda-forge/sidecar) clearly indicates 0.7.0 is for noarch and is the latest version (BUT OVER A YEAR OLD, so how out of date is that [sidecar page there](https://beta.mamba.pm/channels/conda-forge/packages/sidecar) saying 0.5.1 is latest!?!). And unpinning to let it presumably install the 0.70 version of sidecar worked to then allow it build & delploy and sidecar function in the JupyterLab interface in those JupyterLite sessions.",
      "metadata": {}
    },
    {
      "cell_type": "code",
      "source": "from sidecar import Sidecar",
      "metadata": {
        "trusted": true
      },
      "outputs": [],
      "execution_count": 1
    },
    {
      "cell_type": "code",
      "source": "sc = Sidecar(title=\"Some title\")\nwith sc:\n    print(\"this\")",
      "metadata": {
        "trusted": true
      },
      "outputs": [],
      "execution_count": 2
    }
  ]
}
