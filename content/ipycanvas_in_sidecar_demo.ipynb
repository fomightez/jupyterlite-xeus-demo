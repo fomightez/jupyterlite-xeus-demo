{
  "metadata": {
    "kernelspec": {
      "name": "xpython",
      "display_name": "Python 3.11 (XPython)",
      "language": "python"
    },
    "language_info": {
      "file_extension": ".py",
      "mimetype": "text/x-python",
      "name": "python",
      "version": "3.11.3"
    }
  },
  "nbformat_minor": 4,
  "nbformat": 4,
  "cells": [
    {
      "cell_type": "markdown",
      "source": "## ipycanvas in sidecar with JupyterLite demo\n\nBuilding on `Sidecar_working_in_JupyterLite_example.ipynb` to add displaying of ipycanvas in sidecar in JupyterLite.  \nWorks in sessions launched from [github.com/fomightez/jupyterlite-xeus-demo](https://github.com/fomightez/jupyterlite-xeus-demo).",
      "metadata": {}
    },
    {
      "cell_type": "code",
      "source": "#ipycanvas code adapted from example 'Batch Draw Styled Rects' (https://github.com/jupyter-widgets-contrib/ipycanvas/blob/29991fe8085bb51dd67e543a6e0b5eafe061fc8b/examples/batch_drawing.ipynb)\nimport numpy as np\nfrom ipycanvas import Canvas, hold_canvas\nimport math\ncanvas = Canvas(width=300, height=300)\nn_rects = 700\nx = np.random.randint(0, canvas.width, size=(n_rects))\ny = np.random.randint(0, canvas.width, size=(n_rects))\nwidth = np.random.randint(10, 40, size=(n_rects))\nheight = np.random.randint(10, 40, size=(n_rects))\ncolors_fill = np.random.randint(0, 255, size=(n_rects, 3))\ncolors_outline = np.random.randint(0, 255, size=(n_rects, 3))\nalphas = np.random.random(n_rects)\nwith hold_canvas():\n    canvas.fill_styled_rects(x, y, width, height, color=colors_fill, alpha=alphas)\n    canvas.line_width = 2\n    canvas.stroke_styled_rects(x, y, width, height, color=colors_outline, alpha=alphas)\nfrom sidecar import Sidecar\nsc = Sidecar(title=\"ipycanvas\")\nwith sc:\n    display(canvas)",
      "metadata": {
        "trusted": true
      },
      "outputs": [],
      "execution_count": 20
    },
    {
      "cell_type": "code",
      "source": "",
      "metadata": {
        "trusted": true
      },
      "outputs": [],
      "execution_count": null
    },
    {
      "cell_type": "code",
      "source": "",
      "metadata": {
        "trusted": true
      },
      "outputs": [],
      "execution_count": null
    },
    {
      "cell_type": "code",
      "source": "",
      "metadata": {
        "trusted": true
      },
      "outputs": [],
      "execution_count": 14
    },
    {
      "cell_type": "code",
      "source": "",
      "metadata": {
        "trusted": true
      },
      "outputs": [],
      "execution_count": null
    }
  ]
}
